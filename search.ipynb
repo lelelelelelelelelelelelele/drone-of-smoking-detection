{
 "cells": [
  {
   "cell_type": "code",
   "execution_count": 3,
   "metadata": {},
   "outputs": [],
   "source": [
    "import cv2\n",
    "from djitellopy import Tello\n",
    "from ultralytics import YOLO\n",
    "\n",
    "# model = YOLO('best_smoke.pt')"
   ]
  },
  {
   "cell_type": "code",
   "execution_count": null,
   "metadata": {},
   "outputs": [],
   "source": [
    "def search_and_return(tello: Tello, target_class_id=0, search_duration=10):\n",
    "    '''\n",
    "    在目标丢失后，Tello无人机通过悬停旋转寻找目标。\n",
    "    如果找不到，则返回初始方向。\n",
    "    \n",
    "    :param tello: Tello实例\n",
    "    :param target_class_id: 需要识别的目标类别ID，默认为0\n",
    "    :param search_duration: 搜索持续时间（秒）\n",
    "    '''\n",
    "    initial_attitude = tello.get_attitude()\n",
    "    initial_yaw = initial_attitude.yaw  # 记录初始朝向\n",
    "    \n",
    "    # 计算总共需要旋转的次数以达到每秒半圈，这里假设每次旋转180度\n",
    "    rotations_per_second = 0.5  # 半圈\n",
    "    total_rotations = rotations_per_second * search_duration\n",
    "    degrees_per_rotation = 60  # 假设每次旋转60度\n",
    "\n",
    "    current_yaw = initial_yaw  # 用于追踪当前的偏航角\n",
    "\n",
    "    for _ in range(int(total_rotations)):\n",
    "        # 旋转无人机\n",
    "        tello.rotate_clockwise(degrees_per_rotation / 2)  # 每次旋转30度\n",
    "        frame_read = tello.get_frame_read().frame\n",
    "        results = model(frame_read, classes=[target_class_id], verbose=False)\n",
    "\n",
    "        # 绘制检测结果（可选）\n",
    "        annotated_frame = results[0].plot() if results else frame_read.copy()  # 确保无结果时仍显示原始帧\n",
    "        cv2.imshow('Drone Camera', annotated_frame)\n",
    "        cv2.waitKey(1)  # 显示视频帧，非阻塞模式\n",
    "\n",
    "        if results and len(results[0].boxes.data):  # 如果找到了目标\n",
    "            print('目标已找到！')\n",
    "            break\n",
    "        else:\n",
    "            current_yaw += degrees_per_rotation / 2  # 更新当前偏航角\n",
    "\n",
    "    # 计算并执行返回初始方向的旋转\n",
    "    tello.rotate_counter_clockwise((initial_yaw - current_yaw + 360) % 360)  # 处理角度循环问题\n",
    "    print('已返回初始方向')"
   ]
  }
 ],
 "metadata": {
  "kernelspec": {
   "display_name": "TT_torch",
   "language": "python",
   "name": "python3"
  },
  "language_info": {
   "codemirror_mode": {
    "name": "ipython",
    "version": 3
   },
   "file_extension": ".py",
   "mimetype": "text/x-python",
   "name": "python",
   "nbconvert_exporter": "python",
   "pygments_lexer": "ipython3",
   "version": "3.8.19"
  }
 },
 "nbformat": 4,
 "nbformat_minor": 2
}
